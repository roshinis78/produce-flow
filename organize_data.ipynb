{
 "cells": [
  {
   "cell_type": "code",
   "execution_count": 1,
   "metadata": {},
   "outputs": [
    {
     "data": {
      "text/html": [
       "<div>\n",
       "<style scoped>\n",
       "    .dataframe tbody tr th:only-of-type {\n",
       "        vertical-align: middle;\n",
       "    }\n",
       "\n",
       "    .dataframe tbody tr th {\n",
       "        vertical-align: top;\n",
       "    }\n",
       "\n",
       "    .dataframe thead th {\n",
       "        text-align: right;\n",
       "    }\n",
       "</style>\n",
       "<table border=\"1\" class=\"dataframe\">\n",
       "  <thead>\n",
       "    <tr style=\"text-align: right;\">\n",
       "      <th></th>\n",
       "      <th>Country</th>\n",
       "      <th>Produce</th>\n",
       "      <th>Year</th>\n",
       "      <th>Production Quantity</th>\n",
       "      <th>Import Quantity</th>\n",
       "      <th>Export Quantity</th>\n",
       "    </tr>\n",
       "  </thead>\n",
       "  <tbody>\n",
       "    <tr>\n",
       "      <th>0</th>\n",
       "      <td>Armenia</td>\n",
       "      <td>Potatoes</td>\n",
       "      <td>2000</td>\n",
       "      <td>290260.0</td>\n",
       "      <td>390.0</td>\n",
       "      <td>300.0</td>\n",
       "    </tr>\n",
       "    <tr>\n",
       "      <th>1</th>\n",
       "      <td>Armenia</td>\n",
       "      <td>Potatoes</td>\n",
       "      <td>2001</td>\n",
       "      <td>363834.0</td>\n",
       "      <td>2290.0</td>\n",
       "      <td>0.0</td>\n",
       "    </tr>\n",
       "    <tr>\n",
       "      <th>2</th>\n",
       "      <td>Armenia</td>\n",
       "      <td>Potatoes</td>\n",
       "      <td>2002</td>\n",
       "      <td>374263.0</td>\n",
       "      <td>1918.0</td>\n",
       "      <td>0.0</td>\n",
       "    </tr>\n",
       "    <tr>\n",
       "      <th>3</th>\n",
       "      <td>Armenia</td>\n",
       "      <td>Potatoes</td>\n",
       "      <td>2003</td>\n",
       "      <td>507518.0</td>\n",
       "      <td>2853.0</td>\n",
       "      <td>7.0</td>\n",
       "    </tr>\n",
       "    <tr>\n",
       "      <th>4</th>\n",
       "      <td>Armenia</td>\n",
       "      <td>Potatoes</td>\n",
       "      <td>2004</td>\n",
       "      <td>576427.0</td>\n",
       "      <td>1553.0</td>\n",
       "      <td>0.0</td>\n",
       "    </tr>\n",
       "  </tbody>\n",
       "</table>\n",
       "</div>"
      ],
      "text/plain": [
       "   Country   Produce  Year  Production Quantity  Import Quantity  \\\n",
       "0  Armenia  Potatoes  2000             290260.0            390.0   \n",
       "1  Armenia  Potatoes  2001             363834.0           2290.0   \n",
       "2  Armenia  Potatoes  2002             374263.0           1918.0   \n",
       "3  Armenia  Potatoes  2003             507518.0           2853.0   \n",
       "4  Armenia  Potatoes  2004             576427.0           1553.0   \n",
       "\n",
       "   Export Quantity  \n",
       "0            300.0  \n",
       "1              0.0  \n",
       "2              0.0  \n",
       "3              7.0  \n",
       "4              0.0  "
      ]
     },
     "execution_count": 1,
     "metadata": {},
     "output_type": "execute_result"
    }
   ],
   "source": [
    "import pandas as pd\n",
    "import numpy as np\n",
    "import seaborn as sns\n",
    "from collections import Counter\n",
    "\n",
    "df = pd.read_csv('data/raw_data.csv')\n",
    "df.drop(columns='Row Number', inplace=True)\n",
    "\n",
    "df = df[['Area', 'Item', 'Year', 'Production', 'Import Quantity', 'Export Quantity']]\n",
    "df.rename(columns={'Area': 'Country', 'Item':'Produce', 'Production':'Production Quantity'}, inplace=True)\n",
    "\n",
    "df.head() "
   ]
  },
  {
   "cell_type": "code",
   "execution_count": 2,
   "metadata": {},
   "outputs": [],
   "source": [
    "# create a lookup table for countries and their centroid locations\n",
    "countries_lookup = pd.read_csv('data/country_centroids.csv')\n",
    "set(df[~df['Country'].isin(countries_lookup['name'])]['Country'])\n",
    "\n",
    "lookup = countries_lookup\n",
    "lookup.rename(columns={'country':'code'}, inplace=True)\n",
    "lookup.index = lookup['name']\n",
    "(lookup.drop(columns=['name'])).to_csv('data/countries_lookup.csv')\n",
    "\n",
    "\n",
    "# FIXME --------------------------------------------------------------------------\n",
    "# ********************************************************************************\n",
    "# Assuming that China is a sum of mainland, taiwan, hong kong and macao\n",
    "# 'Serbia and Montenegro' - set coordinates to average of Serbia and Montenegro\n",
    "# 'South Sudan' and 'Sudan (former)'- set coordinates to Sudan's coordinates"
   ]
  },
  {
   "cell_type": "code",
   "execution_count": 3,
   "metadata": {},
   "outputs": [],
   "source": [
    "# remove the regions printed above from the dataframe\n",
    "df = df[df['Country'].isin(countries_lookup['name'])]\n",
    "df.index = df['Country']\n",
    "df.drop(columns='Country', inplace=True)\n",
    "df.to_csv('data/relevant_data.csv')"
   ]
  },
  {
   "cell_type": "code",
   "execution_count": 4,
   "metadata": {},
   "outputs": [],
   "source": [
    "# create a set of produce that shows up in the dataset\n",
    "produce = (pd.Series(list(set(df['Produce'])))).sort_values()\n",
    "produce.to_csv('data/produce.csv', index=False, header=['Produce'])\n",
    "\n",
    "# create a set of years that show up in the dataset\n",
    "years = (pd.Series(list(set(df['Year'])))).sort_values()\n",
    "years.to_csv('data/years.csv', index=False, header=['Year'])"
   ]
  },
  {
   "cell_type": "code",
   "execution_count": 8,
   "metadata": {
    "scrolled": true
   },
   "outputs": [
    {
     "data": {
      "text/plain": [
       "['#a1c9f4',\n",
       " '#ffb482',\n",
       " '#8de5a1',\n",
       " '#ff9f9b',\n",
       " '#d0bbff',\n",
       " '#debb9b',\n",
       " '#fab0e4',\n",
       " '#cfcfcf',\n",
       " '#fffea3',\n",
       " '#b9f2f0',\n",
       " '#a1c9f4',\n",
       " '#ffb482',\n",
       " '#8de5a1',\n",
       " '#ff9f9b',\n",
       " '#d0bbff']"
      ]
     },
     "execution_count": 8,
     "metadata": {},
     "output_type": "execute_result"
    },
    {
     "data": {
      "image/png": "[encoded data removed]",
      "text/plain": [
       "<Figure size 1080x72 with 1 Axes>"
      ]
     },
     "metadata": {
      "needs_background": "light"
     },
     "output_type": "display_data"
    }
   ],
   "source": [
    "# palette generation\n",
    "map_palette = sns.color_palette('pastel', 15)\n",
    "sns.palplot(map_palette)\n",
    "map_palette.as_hex()"
   ]
  },
  {
   "cell_type": "code",
   "execution_count": null,
   "metadata": {},
   "outputs": [],
   "source": []
  }
 ],
 "metadata": {
  "kernelspec": {
   "display_name": "Python 3",
   "language": "python",
   "name": "python3"
  },
  "language_info": {
   "codemirror_mode": {
    "name": "ipython",
    "version": 3
   },
   "file_extension": ".py",
   "mimetype": "text/x-python",
   "name": "python",
   "nbconvert_exporter": "python",
   "pygments_lexer": "ipython3",
   "version": "3.7.3"
  }
 },
 "nbformat": 4,
 "nbformat_minor": 2
}
